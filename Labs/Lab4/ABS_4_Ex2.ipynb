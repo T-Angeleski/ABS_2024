{
 "nbformat": 4,
 "nbformat_minor": 0,
 "metadata": {
  "colab": {
   "provenance": [],
   "gpuType": "T4"
  },
  "kernelspec": {
   "name": "python3",
   "display_name": "Python 3"
  },
  "language_info": {
   "name": "python"
  },
  "accelerator": "GPU"
 },
 "cells": [
  {
   "cell_type": "markdown",
   "source": [
    "#Setup"
   ],
   "metadata": {
    "id": "6N94P7uYkQqi"
   }
  },
  {
   "cell_type": "code",
   "source": [
    "!pip install swig"
   ],
   "metadata": {
    "colab": {
     "base_uri": "https://localhost:8080/",
     "height": 0
    },
    "id": "0GNpc6W5nsnP",
    "outputId": "65bf7ab9-b37c-4f3f-c35f-82d7bc5872bc"
   },
   "execution_count": 1,
   "outputs": []
  },
  {
   "cell_type": "code",
   "source": [
    "!pip3 install box2d-py==2.3.8"
   ],
   "metadata": {
    "colab": {
     "base_uri": "https://localhost:8080/",
     "height": 0
    },
    "id": "pYEEVYUpmFbX",
    "outputId": "8eef137e-f111-4b68-94eb-5404ea5ff406"
   },
   "execution_count": 2,
   "outputs": []
  },
  {
   "cell_type": "code",
   "execution_count": 3,
   "metadata": {
    "colab": {
     "base_uri": "https://localhost:8080/",
     "height": 0
    },
    "id": "iRok-ld6iyfF",
    "outputId": "bf583ad0-a67f-40fd-d5ec-cb35f729ded1"
   },
   "source": [
    "!pip install stable-baselines3[extra] gymnasium -q"
   ],
   "outputs": []
  },
  {
   "cell_type": "code",
   "source": [
    "import numpy as np\n",
    "import gymnasium as gym\n",
    "from stable_baselines3 import DDPG\n",
    "from stable_baselines3.common.noise import OrnsteinUhlenbeckActionNoise"
   ],
   "metadata": {
    "id": "R0ndDTpjkdAF"
   },
   "execution_count": 4,
   "outputs": []
  },
  {
   "cell_type": "code",
   "source": [
    "env = gym.make(\"LunarLanderContinuous-v2\", render_mode=\"rgb_array\")\n",
    "NUM_ACTIONS = env.action_space.shape[-1]\n",
    "noise = OrnsteinUhlenbeckActionNoise(mean=np.zeros(NUM_ACTIONS),\n",
    "                                     sigma=0.1 * np.ones(NUM_ACTIONS))\n",
    "\n",
    "model = DDPG(policy=\"MlpPolicy\",\n",
    "             env=env,\n",
    "             learning_rate=0.005,\n",
    "             buffer_size=2048,\n",
    "             batch_size=32,\n",
    "             train_freq=(5, \"episode\"),\n",
    "             action_noise=noise,\n",
    "             device=\"cuda\", # GPU?\n",
    "             verbose=1)"
   ],
   "metadata": {
    "colab": {
     "base_uri": "https://localhost:8080/",
     "height": 0
    },
    "id": "5BDe4vFOlE8f",
    "outputId": "836b5005-5c5f-4382-9f0d-cf0615663573"
   },
   "execution_count": 16,
   "outputs": []
  },
  {
   "cell_type": "markdown",
   "source": [
    "#Training, testing"
   ],
   "metadata": {
    "id": "4B7zQ8H2pU-P"
   }
  },
  {
   "cell_type": "code",
   "source": [
    "model.learn(10000, log_interval=100)\n",
    "model.save(\"ddpg_lunar_lander\")"
   ],
   "metadata": {
    "colab": {
     "base_uri": "https://localhost:8080/",
     "height": 0
    },
    "id": "75Hn_QGPmCx4",
    "outputId": "9e7f9ebb-cea5-4a0b-ee9f-88f7da0660b4"
   },
   "execution_count": 17,
   "outputs": []
  },
  {
   "cell_type": "markdown",
   "source": [
    "Load if needed"
   ],
   "metadata": {
    "id": "gA7f2D9OrpTz"
   }
  },
  {
   "cell_type": "code",
   "source": [
    "#model = DDPG.load(\"ddpg_lunar_lander\")"
   ],
   "metadata": {
    "id": "oOREFL0_rgFJ"
   },
   "execution_count": null,
   "outputs": []
  },
  {
   "cell_type": "code",
   "source": [
    "def test_model(model, env, num_eps=100):\n",
    "  total_rewards = []\n",
    "  for episode in range(num_eps):\n",
    "    state, _ = env.reset()\n",
    "    done = False\n",
    "    episode_reward = 0\n",
    "\n",
    "    while not done:\n",
    "      action, _ = model.predict(state, deterministic=True)\n",
    "      new_state, reward, done, _, _ = env.step(action)\n",
    "      state = new_state\n",
    "      episode_reward += reward\n",
    "      # env.render()\n",
    "    print(f\"Episode {episode+1} reward: {episode_reward}\")\n",
    "    total_rewards.append(episode_reward)\n",
    "  # env.close()\n",
    "  return total_rewards"
   ],
   "metadata": {
    "id": "eJ1cXFY3rtYo"
   },
   "execution_count": 18,
   "outputs": []
  },
  {
   "cell_type": "code",
   "source": [
    "reward_50 = test_model(model, env, 50)\n",
    "reward_100 = test_model(model, env, 100)"
   ],
   "metadata": {
    "colab": {
     "base_uri": "https://localhost:8080/",
     "height": 0
    },
    "id": "dlFgTtkgsaAF",
    "outputId": "4d78c220-25e9-4c5c-9ae2-77c41b142536"
   },
   "execution_count": 19,
   "outputs": []
  },
  {
   "cell_type": "code",
   "source": [
    "print(f\"Average reward for 50 eps: {np.mean(reward_50)}\")\n",
    "print(f\"Average reward for 100 eps: {np.mean(reward_100)}\")"
   ],
   "metadata": {
    "colab": {
     "base_uri": "https://localhost:8080/",
     "height": 0
    },
    "id": "doH1DWrYs2a_",
    "outputId": "05c259c7-cbe6-4907-fe00-a60ce0996bb3"
   },
   "execution_count": 20,
   "outputs": []
  },
  {
   "cell_type": "code",
   "source": [],
   "metadata": {
    "id": "cDNhSHZQtd46"
   },
   "execution_count": null,
   "outputs": []
  }
 ]
}
